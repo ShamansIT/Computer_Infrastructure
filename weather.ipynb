{
 "cells": [
  {
   "cell_type": "markdown",
   "metadata": {},
   "source": [
    "# Weather Data Automation Project\n",
    "\n",
    "This notebook summarizes the steps completed for automating the collection and storage of weather data using bash scripting and the command line.\n",
    "\n",
    "---"
   ]
  },
  {
   "cell_type": "markdown",
   "metadata": {},
   "source": []
  },
  {
   "cell_type": "markdown",
   "metadata": {},
   "source": [
    "## Task 1: Create Directory Structure\n",
    "### Command:\n",
    "```bash\n",
    "mkdir -p data/timestamps data/weather"
   ]
  },
  {
   "cell_type": "markdown",
   "metadata": {},
   "source": [
    "#### Description:\n",
    "- mkdir -p creates the directory structure, ensuring that timestamps and weather are subdirectories of data.\n",
    "- The -p flag ensures no errors are thrown if the directories already exist."
   ]
  },
  {
   "cell_type": "markdown",
   "metadata": {},
   "source": [
    "## Task 2: Timestamps\n",
    "### Command:\n",
    "```bash\n",
    "cd data/timestamps\n",
    "date >> now.txt"
   ]
  },
  {
   "cell_type": "markdown",
   "metadata": {},
   "source": [
    "#### Description:\n",
    "- date outputs the current date and time.\n",
    "- '>>' now.txt appends the output to the file now.txt.\n",
    "- This process was repeated 10 times, and the file content was verified using (10 times): \n",
    "```bash\n",
    "now.txt"
   ]
  },
  {
   "cell_type": "markdown",
   "metadata": {},
   "source": [
    "## Task 3: Formatting Timestamps\n",
    "### Command:\n",
    "```bash\n",
    "date +'%Y%m%d_%H%M%S' >> formatted.txt"
   ]
  },
  {
   "cell_type": "markdown",
   "metadata": {},
   "source": [
    "#### Description:\n",
    "- date +'%Y%m%d_%H%M%S' outputs the current date and time in the YYYYmmdd_HHMMSS format.\n",
    "- '>>' formatted.txt appends the formatted output to the file formatted.txt."
   ]
  },
  {
   "cell_type": "markdown",
   "metadata": {},
   "source": [
    "## Task 4: Create Timestamped Files\n",
    "### Command:\n",
    "```bash\n",
    "touch \"$(date +'%Y%m%d_%H%M%S').txt\""
   ]
  },
  {
   "cell_type": "markdown",
   "metadata": {},
   "source": [
    "### Description:\n",
    "- touch creates an empty file.\n",
    "- \"$(date +'%Y%m%d_%H%M%S')\" embeds the date command to generate timestamped file name."
   ]
  },
  {
   "cell_type": "markdown",
   "metadata": {},
   "source": [
    "## Task 5: Download Today's Weather Data\n",
    "### Command:\n",
    "```bash\n",
    "cd data/weather\n",
    "wget -O weather.json https://prodapi.metweb.ie/observations/athenry/today"
   ]
  },
  {
   "cell_type": "markdown",
   "metadata": {},
   "source": [
    "### Description:\n",
    "- wget downloads the weather data from the given URL.\n",
    "- -O weather.json saves the output to the file weather.json."
   ]
  },
  {
   "cell_type": "markdown",
   "metadata": {},
   "source": [
    "## Task 6: Timestamp the Data\n",
    "### Command:\n",
    "```bash\n",
    "wget -O \"$(date +'%Y%m%d_%H%M%S').json\" https://prodapi.metweb.ie/observations/athenry/today\n"
   ]
  },
  {
   "cell_type": "markdown",
   "metadata": {},
   "source": [
    "### Description:\n",
    "This command adds timestamp to the weather data file name, ensuring unique filenames for each download."
   ]
  },
  {
   "cell_type": "markdown",
   "metadata": {},
   "source": [
    "## Task 7: Write the Script\n",
    "### Script:\n",
    "```bash\n",
    "#!/bin/bash\n",
    "\n",
    "# Navigate to the weather directory\n",
    "cd data/weather\n",
    "\n",
    "# Download the weather data with timestamped filename\n",
    "wget -O \"$(date +'%Y%m%d_%H%M%S').json\" https://prodapi.metweb.ie/observations/athenry/today"
   ]
  },
  {
   "cell_type": "markdown",
   "metadata": {},
   "source": [
    "### Description:\n",
    "The bash script automates the process of downloading weather data with a timestamped filename.\n",
    "\n",
    "chmod +x weather.sh made the script executable, and it was tested using:\n",
    "```bash\n",
    "./weather.sh"
   ]
  },
  {
   "cell_type": "markdown",
   "metadata": {},
   "source": [
    "## Summary\n",
    "Tasks 1 to 7 involved setting up directories, working with timestamps, and automating the process of downloading weather data using  scripting. \n",
    "\n",
    "Tasks provided hands-on experience with the command line and scripting for data collection and automation."
   ]
  },
  {
   "cell_type": "markdown",
   "metadata": {},
   "source": [
    "# End\n",
    "---"
   ]
  }
 ],
 "metadata": {
  "language_info": {
   "name": "python"
  }
 },
 "nbformat": 4,
 "nbformat_minor": 2
}
