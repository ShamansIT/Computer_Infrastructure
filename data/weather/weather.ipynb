{
 "cells": [
  {
   "cell_type": "markdown",
   "metadata": {},
   "source": [
    "### Analysis of Weather Data from API\n",
    "\n",
    "**Data Source**: Real-time weather data retrieved directly from the Met Éireann API:\n",
    "[https://prodapi.metweb.ie/observations/athenry/today](https://prodapi.metweb.ie/observations/athenry/today).\n",
    "\n",
    "**Dataset Contents**:\n",
    "The dataset contains the following parameters:\n",
    "- **temperature**: Current temperature in Celsius.\n",
    "- **humidity**: Humidity percentage.\n",
    "- **windSpeed**: Wind speed in km/h.\n",
    "- **rainfall**: Rainfall in mm.\n",
    "- **pressure**: Atmospheric pressure in hPa.\n",
    "- **reportTime**: Time of the observation in `HH:MM` format.\n",
    "\n",
    "**Key Observations**:\n",
    "1. The temperature trend throughout the day is captured and visualized.\n",
    "2. Wind speed, humidity, and pressure provide additional insights into weather conditions.\n",
    "3. This data can be used for further time-series analysis or forecasting.\n",
    "\n",
    "The graph below visualizes the hourly temperature trend for Athenry."
   ]
  },
  {
   "cell_type": "code",
   "execution_count": 16,
   "metadata": {},
   "outputs": [],
   "source": [
    "# Lib import\n",
    "import pandas as pd\n",
    "import requests\n",
    "import matplotlib.pyplot as plt\n",
    "\n",
    "%matplotlib inline"
   ]
  },
  {
   "cell_type": "markdown",
   "metadata": {},
   "source": [
    "## Get the data from the API"
   ]
  },
  {
   "cell_type": "code",
   "execution_count": 17,
   "metadata": {},
   "outputs": [
    {
     "name": "stdout",
     "output_type": "stream",
     "text": [
      "Data successfully retrieved from API!\n",
      "First rows of data:\n",
      "      name temperature symbol weatherDescription      text windSpeed windGust  \\\n",
      "0  Athenry          10    04n             Cloudy  \"Cloudy\"        15        -   \n",
      "1  Athenry          10    04n             Cloudy  \"Cloudy\"        15        -   \n",
      "2  Athenry          11    04n             Cloudy  \"Cloudy\"        19        -   \n",
      "3  Athenry          11    04n             Cloudy  \"Cloudy\"        20        -   \n",
      "4  Athenry          10    04n             Cloudy  \"Cloudy\"        15       39   \n",
      "\n",
      "  cardinalWindDirection  windDirection humidity rainfall pressure dayName  \\\n",
      "0                    SW            225      83      0.0      1028  Monday   \n",
      "1                    SW            225      81      0.0      1028  Monday   \n",
      "2                    SW            225      81      0.0      1028  Monday   \n",
      "3                     W            270      80      0.0      1027  Monday   \n",
      "4                    SW            225      90      0.0      1027  Monday   \n",
      "\n",
      "         date reportTime  \n",
      "0  16-12-2024      00:00  \n",
      "1  16-12-2024      01:00  \n",
      "2  16-12-2024      02:00  \n",
      "3  16-12-2024      03:00  \n",
      "4  16-12-2024      04:00  \n"
     ]
    }
   ],
   "source": [
    "# Fetching data from API\n",
    "api_url = \"https://prodapi.metweb.ie/observations/athenry/today\"\n",
    "\n",
    "# Sending a GET request to the API\n",
    "response = requests.get(api_url)\n",
    "\n",
    "# Checking the status of the response\n",
    "if response.status_code == 200:\n",
    "    print(\"Data successfully retrieved from API!\")\n",
    "    # Converting JSON response into a pandas DataFrame\n",
    "    weather_data = pd.DataFrame(response.json())\n",
    "else:\n",
    "    print(\"Failed to retrieve data. Status Code:\", response.status_code)\n",
    "    # Creating an empty DataFrame if data fetch fails\n",
    "    weather_data = pd.DataFrame()\n",
    "\n",
    "# Display the first few rows for verification\n",
    "print(\"First rows of data:\")\n",
    "print(weather_data.head())"
   ]
  },
  {
   "cell_type": "markdown",
   "metadata": {},
   "source": [
    "## Converting columns to numeric format"
   ]
  },
  {
   "cell_type": "code",
   "execution_count": 18,
   "metadata": {},
   "outputs": [
    {
     "name": "stdout",
     "output_type": "stream",
     "text": [
      "\n",
      "Data Types After Conversion:\n",
      "name                      object\n",
      "temperature                int64\n",
      "symbol                    object\n",
      "weatherDescription        object\n",
      "text                      object\n",
      "windSpeed                  int64\n",
      "windGust                  object\n",
      "cardinalWindDirection     object\n",
      "windDirection              int64\n",
      "humidity                   int64\n",
      "rainfall                 float64\n",
      "pressure                   int64\n",
      "dayName                   object\n",
      "date                      object\n",
      "reportTime                object\n",
      "dtype: object\n"
     ]
    }
   ],
   "source": [
    "# Columns that need numeric values for analysis\n",
    "numeric_columns = ['temperature', 'humidity', 'windSpeed', 'rainfall', 'pressure']\n",
    "\n",
    "# Loop through each column and convert to numeric, invalid values -> NaN\n",
    "for col in numeric_columns:\n",
    "    weather_data[col] = pd.to_numeric(weather_data[col], errors='coerce')\n",
    "\n",
    "# Verify the data types after conversion\n",
    "print(\"\\nData Types After Conversion:\")\n",
    "print(weather_data.dtypes)\n"
   ]
  },
  {
   "cell_type": "markdown",
   "metadata": {},
   "source": [
    "## Block of descriptive statistics"
   ]
  },
  {
   "cell_type": "code",
   "execution_count": 19,
   "metadata": {},
   "outputs": [
    {
     "name": "stdout",
     "output_type": "stream",
     "text": [
      "\n",
      "Summary Statistics:\n",
      "       temperature   humidity  windSpeed   rainfall     pressure\n",
      "count    23.000000  23.000000  23.000000  23.000000    23.000000\n",
      "mean     10.391304  86.913043  17.130435   0.022609  1026.173913\n",
      "std       0.838783   3.824717   4.495496   0.084864     1.192864\n",
      "min       8.000000  80.000000   6.000000   0.000000  1024.000000\n",
      "25%      10.000000  85.000000  15.000000   0.000000  1025.000000\n",
      "50%      11.000000  87.000000  17.000000   0.000000  1026.000000\n",
      "75%      11.000000  90.000000  20.000000   0.000000  1027.000000\n",
      "max      11.000000  93.000000  26.000000   0.400000  1028.000000\n"
     ]
    }
   ],
   "source": [
    "# Selecting relevant columns for analysis\n",
    "selected_columns = weather_data[['temperature', 'humidity', 'windSpeed', 'rainfall', 'pressure', 'reportTime']]\n",
    "\n",
    "# Display summary statistics for the numeric columns\n",
    "print(\"\\nSummary Statistics:\")\n",
    "print(selected_columns.describe())"
   ]
  },
  {
   "cell_type": "markdown",
   "metadata": {},
   "source": [
    "## Calculation of average values\n"
   ]
  },
  {
   "cell_type": "code",
   "execution_count": 20,
   "metadata": {},
   "outputs": [
    {
     "name": "stdout",
     "output_type": "stream",
     "text": [
      "\n",
      "Average Values:\n",
      "temperature      10.391304\n",
      "humidity         86.913043\n",
      "windSpeed        17.130435\n",
      "rainfall          0.022609\n",
      "pressure       1026.173913\n",
      "dtype: float64\n"
     ]
    }
   ],
   "source": [
    "# Calculate the average values for numeric columns\n",
    "print(\"\\nAverage Values:\")\n",
    "print(selected_columns.mean(numeric_only=True))  # Exclude non-numeric columns from the mean calculation\n"
   ]
  },
  {
   "cell_type": "markdown",
   "metadata": {},
   "source": [
    "## Data grouping by time"
   ]
  },
  {
   "cell_type": "code",
   "execution_count": 21,
   "metadata": {},
   "outputs": [
    {
     "name": "stdout",
     "output_type": "stream",
     "text": [
      "\n",
      "Average Temperature by Time:\n",
      "reportTime\n",
      "00:00    10.0\n",
      "01:00    10.0\n",
      "02:00    11.0\n",
      "03:00    11.0\n",
      "04:00    10.0\n",
      "05:00    11.0\n",
      "06:00    11.0\n",
      "07:00    11.0\n",
      "08:00    11.0\n",
      "09:00    11.0\n",
      "10:00    11.0\n",
      "11:00    11.0\n",
      "12:00    11.0\n",
      "13:00    11.0\n",
      "14:00    11.0\n",
      "15:00    11.0\n",
      "16:00    10.0\n",
      "17:00    10.0\n",
      "18:00    10.0\n",
      "19:00    10.0\n",
      "20:00     9.0\n",
      "21:00     9.0\n",
      "22:00     8.0\n",
      "Name: temperature, dtype: float64\n"
     ]
    }
   ],
   "source": [
    "# Grouping data by 'reportTime' and calculating the average temperature\n",
    "average_temp_by_time = weather_data.groupby('reportTime')['temperature'].mean()\n",
    "\n",
    "# Display average temperature by report time\n",
    "print(\"\\nAverage Temperature by Time:\")\n",
    "print(average_temp_by_time)"
   ]
  },
  {
   "cell_type": "markdown",
   "metadata": {},
   "source": [
    "## Visualization of temperature\n"
   ]
  },
  {
   "cell_type": "code",
   "execution_count": 22,
   "metadata": {},
   "outputs": [
    {
     "data": {
      "image/png": "[encoded data removed]",
      "text/plain": [
       "<Figure size 1000x600 with 1 Axes>"
      ]
     },
     "metadata": {},
     "output_type": "display_data"
    }
   ],
   "source": [
    "# Plotting temperature changes throughout the day\n",
    "plt.figure(figsize=(10, 6))  # Set figure size\n",
    "plt.plot(weather_data['reportTime'], weather_data['temperature'], \n",
    "         marker='o', linestyle='-', label='Temperature')  # Line plot with markers\n",
    "\n",
    "# Adding plot details\n",
    "plt.title('Temperature Throughout the Day (Athenry)')\n",
    "plt.xlabel('Report Time')\n",
    "plt.ylabel('Temperature (°C)')\n",
    "plt.xticks(rotation=45)  # Rotate x-axis labels for better readability\n",
    "plt.grid()  # Add grid lines\n",
    "plt.legend()  # Show legend\n",
    "\n",
    "# Display the plot\n",
    "plt.show()"
   ]
  },
  {
   "cell_type": "markdown",
   "metadata": {},
   "source": [
    "# End\n",
    "***"
   ]
  }
 ],
 "metadata": {
  "kernelspec": {
   "display_name": "Python 3",
   "language": "python",
   "name": "python3"
  },
  "language_info": {
   "codemirror_mode": {
    "name": "ipython",
    "version": 3
   },
   "file_extension": ".py",
   "mimetype": "text/x-python",
   "name": "python",
   "nbconvert_exporter": "python",
   "pygments_lexer": "ipython3",
   "version": "3.12.1"
  }
 },
 "nbformat": 4,
 "nbformat_minor": 2
}
